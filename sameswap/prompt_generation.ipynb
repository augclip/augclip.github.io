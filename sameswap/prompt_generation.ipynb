{
 "cells": [
  {
   "cell_type": "markdown",
   "metadata": {},
   "source": [
    "## Prompt Generation Demo"
   ]
  },
  {
   "cell_type": "code",
   "execution_count": 1,
   "metadata": {},
   "outputs": [],
   "source": [
    "import json\n",
    "import random\n",
    "from pathlib import Path\n",
    "from copy import deepcopy\n",
    "\n",
    "assets_path = Path('./assets')\n",
    "img_path = './original_images/'\n",
    "img_id = '2353248'\n",
    "target_object = 'bus'"
   ]
  },
  {
   "cell_type": "markdown",
   "metadata": {},
   "source": [
    "### Swap noun case"
   ]
  },
  {
   "cell_type": "markdown",
   "metadata": {},
   "source": [
    "When constructing SameSwap, we employed additional filtering process to avoid contextual mismatches. "
   ]
  },
  {
   "cell_type": "code",
   "execution_count": 3,
   "metadata": {},
   "outputs": [],
   "source": [
    "with open(assets_path / 'open_images_hierarchy.json', 'r') as f:\n",
    "   class_hier = json.load(f)\n",
    "\n",
    "# Create list of hierarchical objects from Open Images\n",
    "def nest(subcategory):\n",
    "    def _nest(item, level_cat):\n",
    "        if isinstance(item, list):\n",
    "            for c in item:\n",
    "                if isinstance(c, dict):\n",
    "                    if 'Subcategory' in c.keys():\n",
    "                        level_cat.append(_nest(c['Subcategory'], []))\n",
    "                        \n",
    "                    else:\n",
    "                        level_cat.append(c['LabelName'])\n",
    "                else:\n",
    "                    print('Error')\n",
    "        return level_cat\n",
    "    return _nest(subcategory, [])\n",
    "\n",
    "categories = nest(class_hier['Subcategory'])\n",
    "\n",
    "# Unwarp Hierarchy into Flattened List & Substitute noun with same category noun\n",
    "def unwrap_list(categories, all_list):\n",
    "    def _unwrap_list(lists):\n",
    "        tmp = []\n",
    "        for value in lists:\n",
    "            if isinstance(value, str):\n",
    "                tmp.append(value.lower())\n",
    "            elif isinstance(value, list):\n",
    "                _unwrap_list(value)\n",
    "        all_list.append(tmp)\n",
    "        return all_list\n",
    "    return _unwrap_list(categories)\n",
    "\n",
    "flattened = unwrap_list(categories, all_list=[])[:-1]"
   ]
  },
  {
   "cell_type": "code",
   "execution_count": 4,
   "metadata": {},
   "outputs": [
    {
     "name": "stdout",
     "output_type": "stream",
     "text": [
      "Prompt: Change bus to golf cart\n"
     ]
    }
   ],
   "source": [
    "candidates = [idx for idx, tf in enumerate([target_object in _items for _items in flattened]) if tf]\n",
    "\n",
    "if len(candidates) and len(flattened[candidates[0]])>1:\n",
    "    sibling_category = deepcopy(flattened[candidates[0]])\n",
    "    sibling_category.remove(target_object)\n",
    "    subst = random.choice(sibling_category)\n",
    "    print(f\"Prompt: Change {target_object} to {subst}\")\n",
    "else:\n",
    "    print(\"No candidates\")"
   ]
  },
  {
   "cell_type": "markdown",
   "metadata": {},
   "source": [
    "### Swap attr case"
   ]
  },
  {
   "cell_type": "code",
   "execution_count": 5,
   "metadata": {},
   "outputs": [
    {
     "name": "stdout",
     "output_type": "stream",
     "text": [
      "Prompt: Change bus to pink bus\n"
     ]
    }
   ],
   "source": [
    "with open(assets_path / 'train_sceneGraphs.json', 'r') as f:\n",
    "    scene_graph = json.load(f)\n",
    "with open(assets_path / 'attribute_candidates.json', 'r') as f:\n",
    "    attr_candidate = json.load(f)\n",
    "    \n",
    "in_image_attrs = [v['attributes'] for v in scene_graph[img_id]['objects'].values() if v['name']==target_object]\n",
    "all_candidates = list(set(attr_candidate[target_object]) - set(in_image_attrs[0]))\n",
    "\n",
    "if len(all_candidates):\n",
    "    chosen = random.choice(all_candidates)\n",
    "    print(f\"Prompt: Change {target_object} to {chosen} {target_object}\")\n",
    "else:\n",
    "    print(\"No candidates\")"
   ]
  }
 ],
 "metadata": {
  "kernelspec": {
   "display_name": "test",
   "language": "python",
   "name": "python3"
  },
  "language_info": {
   "codemirror_mode": {
    "name": "ipython",
    "version": 3
   },
   "file_extension": ".py",
   "mimetype": "text/x-python",
   "name": "python",
   "nbconvert_exporter": "python",
   "pygments_lexer": "ipython3",
   "version": "3.11.5"
  }
 },
 "nbformat": 4,
 "nbformat_minor": 2
}
