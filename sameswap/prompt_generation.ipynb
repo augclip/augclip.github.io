{
 "cells": [
  {
   "cell_type": "markdown",
   "metadata": {},
   "source": [
    "## Prompt Generation Demo"
   ]
  },
  {
   "cell_type": "code",
   "execution_count": 1,
   "metadata": {},
   "outputs": [],
   "source": [
    "import json\n",
    "import random\n",
    "from pathlib import Path\n",
    "from copy import deepcopy\n",
    "\n",
    "assets_path = Path('./assets')\n",
    "img_path = './original_images/'\n",
    "img_id = '2353248'\n",
    "target_object = 'bus'"
   ]
  },
  {
   "cell_type": "markdown",
   "metadata": {},
   "source": [
    "### Swap noun case"
   ]
  },
  {
   "cell_type": "markdown",
   "metadata": {},
   "source": [
    "When constructing SameSwap, we employed additional filtering process to avoid contextual mismatches. "
   ]
  },
  {
   "cell_type": "code",
   "execution_count": 2,
   "metadata": {},
   "outputs": [
    {
     "ename": "FileNotFoundError",
     "evalue": "[Errno 2] No such file or directory: 'assets/open_images_hierarchy.json'",
     "output_type": "error",
     "traceback": [
      "\u001b[0;31m---------------------------------------------------------------------------\u001b[0m",
      "\u001b[0;31mFileNotFoundError\u001b[0m                         Traceback (most recent call last)",
      "\u001b[1;32m/Users/rsoohyun/Downloads/augclip.github.io/sameswap/prompt_generation.ipynb 셀 5\u001b[0m line \u001b[0;36m1\n\u001b[0;32m----> <a href='vscode-notebook-cell:/Users/rsoohyun/Downloads/augclip.github.io/sameswap/prompt_generation.ipynb#W4sZmlsZQ%3D%3D?line=0'>1</a>\u001b[0m \u001b[39mwith\u001b[39;00m \u001b[39mopen\u001b[39;49m(assets_path \u001b[39m/\u001b[39;49m \u001b[39m'\u001b[39;49m\u001b[39mopen_images_hierarchy.json\u001b[39;49m\u001b[39m'\u001b[39;49m, \u001b[39m'\u001b[39;49m\u001b[39mr\u001b[39;49m\u001b[39m'\u001b[39;49m) \u001b[39mas\u001b[39;00m f:\n\u001b[1;32m      <a href='vscode-notebook-cell:/Users/rsoohyun/Downloads/augclip.github.io/sameswap/prompt_generation.ipynb#W4sZmlsZQ%3D%3D?line=1'>2</a>\u001b[0m    class_hier \u001b[39m=\u001b[39m json\u001b[39m.\u001b[39mload(f)\n\u001b[1;32m      <a href='vscode-notebook-cell:/Users/rsoohyun/Downloads/augclip.github.io/sameswap/prompt_generation.ipynb#W4sZmlsZQ%3D%3D?line=3'>4</a>\u001b[0m \u001b[39m# Create list of hierarchical objects from Open Images\u001b[39;00m\n",
      "File \u001b[0;32m~/anaconda3/envs/test/lib/python3.11/site-packages/IPython/core/interactiveshell.py:286\u001b[0m, in \u001b[0;36m_modified_open\u001b[0;34m(file, *args, **kwargs)\u001b[0m\n\u001b[1;32m    279\u001b[0m \u001b[39mif\u001b[39;00m file \u001b[39min\u001b[39;00m {\u001b[39m0\u001b[39m, \u001b[39m1\u001b[39m, \u001b[39m2\u001b[39m}:\n\u001b[1;32m    280\u001b[0m     \u001b[39mraise\u001b[39;00m \u001b[39mValueError\u001b[39;00m(\n\u001b[1;32m    281\u001b[0m         \u001b[39mf\u001b[39m\u001b[39m\"\u001b[39m\u001b[39mIPython won\u001b[39m\u001b[39m'\u001b[39m\u001b[39mt let you open fd=\u001b[39m\u001b[39m{\u001b[39;00mfile\u001b[39m}\u001b[39;00m\u001b[39m by default \u001b[39m\u001b[39m\"\u001b[39m\n\u001b[1;32m    282\u001b[0m         \u001b[39m\"\u001b[39m\u001b[39mas it is likely to crash IPython. If you know what you are doing, \u001b[39m\u001b[39m\"\u001b[39m\n\u001b[1;32m    283\u001b[0m         \u001b[39m\"\u001b[39m\u001b[39myou can use builtins\u001b[39m\u001b[39m'\u001b[39m\u001b[39m open.\u001b[39m\u001b[39m\"\u001b[39m\n\u001b[1;32m    284\u001b[0m     )\n\u001b[0;32m--> 286\u001b[0m \u001b[39mreturn\u001b[39;00m io_open(file, \u001b[39m*\u001b[39;49margs, \u001b[39m*\u001b[39;49m\u001b[39m*\u001b[39;49mkwargs)\n",
      "\u001b[0;31mFileNotFoundError\u001b[0m: [Errno 2] No such file or directory: 'assets/open_images_hierarchy.json'"
     ]
    }
   ],
   "source": [
    "with open(assets_path / 'open_images_hierarchy.json', 'r') as f:\n",
    "   class_hier = json.load(f)\n",
    "\n",
    "# Create list of hierarchical objects from Open Images\n",
    "def nest(subcategory):\n",
    "    def _nest(item, level_cat):\n",
    "        if isinstance(item, list):\n",
    "            for c in item:\n",
    "                if isinstance(c, dict):\n",
    "                    if 'Subcategory' in c.keys():\n",
    "                        level_cat.append(_nest(c['Subcategory'], []))\n",
    "                        \n",
    "                    else:\n",
    "                        level_cat.append(c['LabelName'])\n",
    "                else:\n",
    "                    print('Error')\n",
    "        return level_cat\n",
    "    return _nest(subcategory, [])\n",
    "\n",
    "categories = nest(class_hier['Subcategory'])\n",
    "\n",
    "# Unwarp Hierarchy into Flattened List & Substitute noun with same category noun\n",
    "def unwrap_list(categories, all_list):\n",
    "    def _unwrap_list(lists):\n",
    "        tmp = []\n",
    "        for value in lists:\n",
    "            if isinstance(value, str):\n",
    "                tmp.append(value.lower())\n",
    "            elif isinstance(value, list):\n",
    "                _unwrap_list(value)\n",
    "        all_list.append(tmp)\n",
    "        return all_list\n",
    "    return _unwrap_list(categories)\n",
    "\n",
    "flattened = unwrap_list(categories, all_list=[])[:-1]"
   ]
  },
  {
   "cell_type": "code",
   "execution_count": null,
   "metadata": {},
   "outputs": [],
   "source": [
    "candidates = [idx for idx, tf in enumerate([target_object in _items for _items in flattened]) if tf]\n",
    "\n",
    "if len(candidates) and len(flattened[candidates[0]])>1:\n",
    "    sibling_category = deepcopy(flattened[candidates[0]])\n",
    "    sibling_category.remove(target_object)\n",
    "    subst = random.choice(sibling_category)\n",
    "    print(f\"Prompt: Change {target_object} to {subst}\")\n",
    "else:\n",
    "    print(\"No candidates\")"
   ]
  },
  {
   "cell_type": "markdown",
   "metadata": {},
   "source": [
    "### Swap attr case"
   ]
  },
  {
   "cell_type": "code",
   "execution_count": null,
   "metadata": {},
   "outputs": [],
   "source": [
    "with open(assets_path / 'train_sceneGraphs.json', 'r') as f:\n",
    "    scene_graph = json.load(f)\n",
    "with open(assets_path / 'attribute_candidates.json', 'r') as f:\n",
    "    attr_candidate = json.load(f)\n",
    "    \n",
    "in_image_attrs = [v['attributes'] for v in scene_graph[img_id]['objects'].values() if v['name']==target_object]\n",
    "all_candidates = list(set(attr_candidate[target_object]) - set(in_image_attrs[0]))\n",
    "\n",
    "if len(all_candidates):\n",
    "    chosen = random.choice(all_candidates)\n",
    "    print(f\"Prompt: Change {target_object} to {chosen} {target_object}\")\n",
    "else:\n",
    "    print(\"No candidates\")"
   ]
  }
 ],
 "metadata": {
  "kernelspec": {
   "display_name": "test",
   "language": "python",
   "name": "python3"
  },
  "language_info": {
   "codemirror_mode": {
    "name": "ipython",
    "version": 3
   },
   "file_extension": ".py",
   "mimetype": "text/x-python",
   "name": "python",
   "nbconvert_exporter": "python",
   "pygments_lexer": "ipython3",
   "version": "3.11.5"
  }
 },
 "nbformat": 4,
 "nbformat_minor": 2
}
